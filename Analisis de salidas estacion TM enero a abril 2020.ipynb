{
 "cells": [
  {
   "cell_type": "markdown",
   "metadata": {},
   "source": [
    "# Objetivos:\n",
    "Como funciona agrupamiento espacial: cada fila es una ubicación geográfica, se extrae información de la serie asociada a esa ubicación (estática como promedio, min, max, std) y dependiente del tiempo (o frecuencia). Luego con esta información aplica algoritmos de clustering para agrupar las ubicaciones geográficas con características similares.\n",
    "\n",
    "**Agrupar datos por su similaridad para caracterizar los distintos grupos  de datos formados**. Nótese que la agrupación puede temporal (detectando patrones en los eventos que ocurren en un intervalo de tiempo) o espacial (agrupan ubicaciones con caracteristicas similares).\n",
    "\n",
    "**Fun Fact para visualización:** Al juntar cada dato por columna, se podria ver como una imagen, si se normaliza cada valor para que esté entre 0 y 255 (o 0 y 1), podría ser interesante ver esas evoluciones con un heatmap donde cada fila sea la cantidad de salidas en un intervalo especifico y cada columna representa el día del mes en el que se tomó la muestra\n",
    "\n",
    "- Hacer un análisis descriptivo y estadístico de los datos por día, mes  (temporal, como comparativo entre estaciones o Zonas)\n",
    "    - Tendencia, estacionalidad, periodicidad\n",
    "    - Graficas de autocorrelación\n",
    "    - Suavizado de las gráficas\n",
    "- Agrupar salidas acorde a su comportamiento.\n",
    "    - Por franjas horarias en un solo día\n",
    "    - Entre con las de solo un mes\n",
    "    - Entre varios meses\n",
    "    \n",
    "    - Por Zona\n",
    "    \n",
    "**Nota:** Hacer test Dickey Fuller"
   ]
  },
  {
   "cell_type": "code",
   "execution_count": 40,
   "metadata": {},
   "outputs": [],
   "source": [
    "import numpy as np\n",
    "import pandas as pd\n",
    "import matplotlib.pyplot as plt\n",
    "import seaborn as sns\n",
    "sns.set()"
   ]
  },
  {
   "cell_type": "markdown",
   "metadata": {},
   "source": [
    "## 1. Lectura de datos"
   ]
  },
  {
   "cell_type": "code",
   "execution_count": 2,
   "metadata": {},
   "outputs": [
    {
     "name": "stderr",
     "output_type": "stream",
     "text": [
      "C:\\Users\\juanc\\anaconda3\\lib\\site-packages\\IPython\\core\\interactiveshell.py:3146: DtypeWarning: Columns (34,35) have mixed types.Specify dtype option on import or set low_memory=False.\n",
      "  has_raised = await self.run_ast_nodes(code_ast.body, cell_name,\n"
     ]
    }
   ],
   "source": [
    "df = pd.read_csv(\"consolidado-de-salidas-sistema-troncal-por-franja-horaria-enero-abril-2020.csv\",\n",
    "                 encoding='latin-1', header=0,sep=';')"
   ]
  },
  {
   "cell_type": "code",
   "execution_count": 3,
   "metadata": {},
   "outputs": [],
   "source": [
    "df = df.drop(columns=[\"Unnamed: 37\",\"Unnamed: 38\"])"
   ]
  },
  {
   "cell_type": "code",
   "execution_count": 4,
   "metadata": {},
   "outputs": [
    {
     "name": "stdout",
     "output_type": "stream",
     "text": [
      "Index(['Zona', 'Estación', 'Acceso de Estación', 'Mes', 'INTERVALO', 'Día 1',\n",
      "       'Día 2', 'Día 3', 'Día 4', 'Día 5', 'Día 6', 'Día 7', 'Día 8', 'Día 9',\n",
      "       'Día 10', 'Día 11', 'Día 12', 'Día 13', 'Día 14', 'Día 15', 'Día 16',\n",
      "       'Día 17', 'Día 18', 'Día 19', 'Día 20', 'Día 21', 'Día 22', 'Día 23',\n",
      "       'Día 24', 'Día 25', 'Día 26', 'Día 27', 'Día 28', 'Día 29', 'Día 30',\n",
      "       'Día 31', 'Total general'],\n",
      "      dtype='object')\n"
     ]
    }
   ],
   "source": [
    "print(df.columns)"
   ]
  },
  {
   "cell_type": "code",
   "execution_count": 5,
   "metadata": {},
   "outputs": [
    {
     "data": {
      "text/plain": [
       "(34) Zona H Caracas Sur       24959\n",
       "(33) Zona B AutoNorte         21697\n",
       "(30) Zona G NQS Sur           21690\n",
       "(12) Zona L Carrera 10        21334\n",
       "(31) Zona F Av. Américas      18848\n",
       "(35) Zona D Calle 80          16716\n",
       "(36) Zona A Caracas           15454\n",
       "(38) Zona E NQS Central       14937\n",
       "(32) Zona C Av. Suba          14584\n",
       "(11) Zona K Calle 26          13589\n",
       "(39) Zona F Calle 13           8527\n",
       "(37) Zona J Eje Ambiental      3913\n",
       "(40) Zona T Ciudad Bolívar     2135\n",
       "Name: Zona, dtype: int64"
      ]
     },
     "execution_count": 5,
     "metadata": {},
     "output_type": "execute_result"
    }
   ],
   "source": [
    "# IDentificador del sistema de la zona troncal\n",
    "df[\"Zona\"].value_counts()"
   ]
  },
  {
   "cell_type": "code",
   "execution_count": 6,
   "metadata": {},
   "outputs": [
    {
     "name": "stdout",
     "output_type": "stream",
     "text": [
      "Cantidad de estaciones:  159\n",
      "Cantidad de accesos a estacion:  400\n"
     ]
    }
   ],
   "source": [
    "print(\"Cantidad de estaciones: \",len(df[\"Estación\"].value_counts()))\n",
    "print(\"Cantidad de accesos a estacion: \",len(df['Acceso de Estación'].value_counts()))"
   ]
  },
  {
   "cell_type": "markdown",
   "metadata": {},
   "source": [
    "Por simplicidad se hará inicialmente el análisis con una zola estación, en este caso con la primera que sale en el dataframe."
   ]
  },
  {
   "cell_type": "code",
   "execution_count": 7,
   "metadata": {},
   "outputs": [
    {
     "name": "stdout",
     "output_type": "stream",
     "text": [
      "Dimensiones de registros para el portal el dorado:  (3285, 37)\n"
     ]
    }
   ],
   "source": [
    "df_p_dorado = df[df[\"Estación\"]==\"(06000) Portal Eldorado\"]\n",
    "print(\"Dimensiones de registros para el portal el dorado: \",df_p_dorado.shape)"
   ]
  },
  {
   "cell_type": "code",
   "execution_count": 8,
   "metadata": {
    "scrolled": true
   },
   "outputs": [
    {
     "data": {
      "text/plain": [
       "Zona                  0\n",
       "Estación              0\n",
       "Acceso de Estación    0\n",
       "Mes                   0\n",
       "INTERVALO             0\n",
       "Día 1                 0\n",
       "Día 2                 0\n",
       "Día 3                 0\n",
       "Día 4                 0\n",
       "Día 5                 0\n",
       "Día 6                 0\n",
       "Día 7                 0\n",
       "Día 8                 0\n",
       "Día 9                 0\n",
       "Día 10                0\n",
       "Día 11                0\n",
       "Día 12                0\n",
       "Día 13                0\n",
       "Día 14                0\n",
       "Día 15                0\n",
       "Día 16                0\n",
       "Día 17                0\n",
       "Día 18                0\n",
       "Día 19                0\n",
       "Día 20                0\n",
       "Día 21                0\n",
       "Día 22                0\n",
       "Día 23                0\n",
       "Día 24                0\n",
       "Día 25                0\n",
       "Día 26                0\n",
       "Día 27                0\n",
       "Día 28                0\n",
       "Día 29                0\n",
       "Día 30                0\n",
       "Día 31                0\n",
       "Total general         0\n",
       "dtype: int64"
      ]
     },
     "execution_count": 8,
     "metadata": {},
     "output_type": "execute_result"
    }
   ],
   "source": [
    "df_p_dorado.isna().sum()"
   ]
  },
  {
   "cell_type": "markdown",
   "metadata": {},
   "source": [
    "Afortunadamente, ningun valor falta en este subconjunto de datos. Ahora analicemos cuantos accesos tiene esta estación"
   ]
  },
  {
   "cell_type": "code",
   "execution_count": 9,
   "metadata": {},
   "outputs": [
    {
     "data": {
      "text/plain": [
       "(02) PLAT1 ALIM-ENGATIVÁ/LAFAENA/TIERRAGRATA/AEROPUERTO/ELMUELLE/AV.ELDORADO ALAMOS/VILLAAMALIA          356\n",
       "(01) PLAT2 ALIM-DESAL FONTIBÓN/FONTIBÓN CENTRO/VILLEMAR/CALIHAYUELOS/LAESTANCIA/ZONA FRANCA/BELÉN-TC6    356\n",
       "(04) Acceso Peatonal Occidental                                                                          356\n",
       "(03) Acceso Peatonal Oriental                                                                            356\n",
       "(18) Acceso Peatonal Oriental (Discapacidad)                                                             355\n",
       "(19) Acceso Peatonal Occidental (Discapacidad)                                                           355\n",
       "(17) P1ALIM-ENGATIVÁ/LAFAENA/TIERRAGRATA/AEROPUERTO/ELMUELLE/AV.ELDORADOALAMOS/VILLAAMALIA(DISCAP)       355\n",
       "(24) Acceso Bicicletero                                                                                  354\n",
       "(16) P2 A-D FONTIBÓN/FONTIBÓNCENTRO/VILLEMAR/CALIHAYUELOS/LAESTANCIA/ZONAFRANCA/BELÉN-TC6(DISCAP)        354\n",
       "CENTRO                                                                                                    88\n",
       "Name: Acceso de Estación, dtype: int64"
      ]
     },
     "execution_count": 9,
     "metadata": {},
     "output_type": "execute_result"
    }
   ],
   "source": [
    "df_p_dorado['Acceso de Estación'].value_counts()"
   ]
  },
  {
   "cell_type": "markdown",
   "metadata": {},
   "source": [
    "Vemos que todos los accesos al Portal el Dorado tienen 356 registros a excepción del acceso (16) el cual solo tiene 88 registros. Ahora obtengamos unas primeras visualizaciones de las salidas"
   ]
  },
  {
   "cell_type": "code",
   "execution_count": 10,
   "metadata": {},
   "outputs": [
    {
     "name": "stderr",
     "output_type": "stream",
     "text": [
      "C:\\Users\\juanc\\anaconda3\\lib\\site-packages\\pandas\\core\\strings.py:2001: UserWarning: This pattern has match groups. To actually get the groups, use str.extract.\n",
      "  return func(self, *args, **kwargs)\n"
     ]
    }
   ],
   "source": [
    "# Finalmente filtrando por mes y nombre de la estacion se obtiene un dia\n",
    "cod_acceso = \"(04)\"\n",
    "mes=\"Enero\"\n",
    "df2 = df_p_dorado[(df_p_dorado[\"Mes\"]==mes) & (df_p_dorado[\"Acceso de Estación\"].str.contains(cod_acceso))]"
   ]
  },
  {
   "cell_type": "code",
   "execution_count": 11,
   "metadata": {},
   "outputs": [
    {
     "data": {
      "text/plain": [
       "(89, 37)"
      ]
     },
     "execution_count": 11,
     "metadata": {},
     "output_type": "execute_result"
    }
   ],
   "source": [
    "df2.shape"
   ]
  },
  {
   "cell_type": "markdown",
   "metadata": {},
   "source": [
    "**Nota:** Solo hay 89 muestras y no 96 porque en el ubtervalo de 1 a 3 am excluyendo los límites, no hay muestras cada 3 minutos."
   ]
  },
  {
   "cell_type": "code",
   "execution_count": 12,
   "metadata": {
    "scrolled": true
   },
   "outputs": [
    {
     "name": "stdout",
     "output_type": "stream",
     "text": [
      "<class 'pandas.core.frame.DataFrame'>\n",
      "Int64Index: 89 entries, 267 to 355\n",
      "Data columns (total 37 columns):\n",
      " #   Column              Non-Null Count  Dtype  \n",
      "---  ------              --------------  -----  \n",
      " 0   Zona                89 non-null     object \n",
      " 1   Estación            89 non-null     object \n",
      " 2   Acceso de Estación  89 non-null     object \n",
      " 3   Mes                 89 non-null     object \n",
      " 4   INTERVALO           89 non-null     object \n",
      " 5   Día 1               89 non-null     int64  \n",
      " 6   Día 2               89 non-null     float64\n",
      " 7   Día 3               89 non-null     float64\n",
      " 8   Día 4               89 non-null     float64\n",
      " 9   Día 5               89 non-null     float64\n",
      " 10  Día 6               89 non-null     float64\n",
      " 11  Día 7               89 non-null     float64\n",
      " 12  Día 8               89 non-null     float64\n",
      " 13  Día 9               89 non-null     float64\n",
      " 14  Día 10              89 non-null     float64\n",
      " 15  Día 11              89 non-null     float64\n",
      " 16  Día 12              89 non-null     float64\n",
      " 17  Día 13              89 non-null     float64\n",
      " 18  Día 14              89 non-null     float64\n",
      " 19  Día 15              89 non-null     float64\n",
      " 20  Día 16              89 non-null     float64\n",
      " 21  Día 17              89 non-null     float64\n",
      " 22  Día 18              89 non-null     float64\n",
      " 23  Día 19              89 non-null     float64\n",
      " 24  Día 20              89 non-null     float64\n",
      " 25  Día 21              89 non-null     float64\n",
      " 26  Día 22              89 non-null     float64\n",
      " 27  Día 23              89 non-null     float64\n",
      " 28  Día 24              89 non-null     float64\n",
      " 29  Día 25              89 non-null     float64\n",
      " 30  Día 26              89 non-null     float64\n",
      " 31  Día 27              89 non-null     float64\n",
      " 32  Día 28              89 non-null     float64\n",
      " 33  Día 29              89 non-null     float64\n",
      " 34  Día 30              89 non-null     object \n",
      " 35  Día 31              89 non-null     object \n",
      " 36  Total general       89 non-null     float64\n",
      "dtypes: float64(29), int64(1), object(7)\n",
      "memory usage: 26.4+ KB\n"
     ]
    }
   ],
   "source": [
    "df2.info()"
   ]
  },
  {
   "cell_type": "code",
   "execution_count": 25,
   "metadata": {},
   "outputs": [],
   "source": [
    "# Día 30 y Día 31 aparecen como object, los cambiamos a float\n",
    "df2 = df2.astype({\"Día 30\":float, \"Día 31\":float})"
   ]
  },
  {
   "cell_type": "code",
   "execution_count": 30,
   "metadata": {},
   "outputs": [],
   "source": [
    "prom_salidas_dia = df2.loc[:,\"Día 1\":\"Día 31\"].values.sum(axis=1)*(1.0/31)"
   ]
  },
  {
   "cell_type": "code",
   "execution_count": 60,
   "metadata": {},
   "outputs": [
    {
     "data": {
      "image/png": "[encoded data removed]",
      "text/plain": [
       "<Figure size 1296x576 with 1 Axes>"
      ]
     },
     "metadata": {},
     "output_type": "display_data"
    }
   ],
   "source": [
    "idx = np.linspace(0,len(df2)-1,24).astype(int)\n",
    "t_labels = df2[\"INTERVALO\"].values[idx]\n",
    "dia = \"Día 1\"\n",
    "#y = df2[dia]\n",
    "y = prom_salidas_dia\n",
    "\n",
    "fig, ax =plt.subplots(figsize=(18,8));\n",
    "ax.plot(range(len(y)),y);\n",
    "ax.hlines(y=y.mean(), xmin=0, xmax=len(y)-1,color=\"r\");\n",
    "ax.hlines(y=14, xmin=0, xmax=len(y)-1,color=\"k\",linestyles=\"dashed\");\n",
    "\n",
    "ax.set_xticks(idx)\n",
    "ax.set_xticklabels(t_labels)\n",
    "ax.grid(True)\n",
    "ax.set_xlabel(\"Hora\");\n",
    "ax.set_ylabel(\"Cantidad de salidas\");\n",
    "ax.set_title(\"Promedio de salidas por dia\");\n",
    "ax.legend([\"Salidas\",\"Promedio\",\"Umbral de outliers\"]);"
   ]
  },
  {
   "cell_type": "code",
   "execution_count": 36,
   "metadata": {},
   "outputs": [
    {
     "name": "stdout",
     "output_type": "stream",
     "text": [
      "Descripción estadística de salidas promedio por día:\n"
     ]
    },
    {
     "data": {
      "text/plain": [
       "count    89.000000\n",
       "mean      7.227256\n",
       "std       7.330960\n",
       "min       0.000000\n",
       "25%       3.451613\n",
       "50%       5.677419\n",
       "75%       7.903226\n",
       "max      41.096774\n",
       "dtype: float64"
      ]
     },
     "execution_count": 36,
     "metadata": {},
     "output_type": "execute_result"
    }
   ],
   "source": [
    "print(\"Descripción estadística de salidas promedio por día:\")\n",
    "pd.Series(prom_salidas_dia).describe()"
   ]
  },
  {
   "cell_type": "markdown",
   "metadata": {},
   "source": [
    "Vemos que en las primeras y últimas horas del día la cantidad de salidas es casi nula como es de esperarse considerando los horarios de servicio de Transmilenio. Por otro lado, se ve que desde las 5:00 am aproximádamente empieza a crecer considerablemente las salidas (de 0 a 17 salidas entre las 4 y las 6 am). Luego, hay una ligera disminución y a las 6 30 hay un segundo pico que llega hasta 27 salidas. Más adelante vuelve haber un pico máximo alrededor de 41 salidas las 8:30 am, 9:00 am y luego hay un valle entre las 9 y la 1:30 pm. A la  1:45, aumentan de nuevo las salidas (de 8 a 15) y vuelve a disminuir a disminuir a unas 8 salidas. Poco a poco las salidas disminuyen hasta el final del día.\n",
    "\n",
    "Realicemos análisis de la distribución de los puntos para detectar outliers."
   ]
  },
  {
   "cell_type": "code",
   "execution_count": 46,
   "metadata": {},
   "outputs": [
    {
     "data": {
      "image/png": "[encoded data removed]",
      "text/plain": [
       "<Figure size 576x360 with 1 Axes>"
      ]
     },
     "metadata": {},
     "output_type": "display_data"
    }
   ],
   "source": [
    "#plt.boxplot(prom_salidas_dia)\n",
    "fig, ax = plt.subplots(figsize=(8,5))\n",
    "sns.boxplot(x=prom_salidas_dia);\n",
    "sns.swarmplot(x=prom_salidas_dia, color=\".25\");\n",
    "ax.set_xlabel(\"Salidas\")\n",
    "ax.set_title(\"Boxplot de salidas promedio en un dia\");"
   ]
  },
  {
   "cell_type": "markdown",
   "metadata": {},
   "source": [
    "Según el boxplot, los  outliers de esta serie son aquellos en los que la cantidad de salidas es igual o superior a 14. Con la gráfica de arriba confirmamos que en efecto, los valores superiores a 14 corresponden a los que forman los picos de 6:00 a 8:00 am y de 1:30 pm a 2:00 pm."
   ]
  },
  {
   "cell_type": "code",
   "execution_count": null,
   "metadata": {},
   "outputs": [],
   "source": [
    "# Ahora se podría analizar la tendencia, estacionalidad y periodicidad de la serie promedio \n",
    "# y de la serie para los 31 dias seguidos"
   ]
  }
 ],
 "metadata": {
  "kernelspec": {
   "display_name": "Python 3",
   "language": "python",
   "name": "python3"
  },
  "language_info": {
   "codemirror_mode": {
    "name": "ipython",
    "version": 3
   },
   "file_extension": ".py",
   "mimetype": "text/x-python",
   "name": "python",
   "nbconvert_exporter": "python",
   "pygments_lexer": "ipython3",
   "version": "3.8.5"
  }
 },
 "nbformat": 4,
 "nbformat_minor": 4
}
